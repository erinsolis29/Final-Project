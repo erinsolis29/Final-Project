{
 "cells": [
  {
   "cell_type": "code",
   "execution_count": 30,
   "metadata": {
    "collapsed": false
   },
   "outputs": [],
   "source": [
    "def MakeElephantDict(filename):\n",
    "    elephant_dict = {}\n",
    "    especies = open(filename, \"r\", encoding = \"ISO-8859-15\")\n",
    "    elephant_records = especies.readlines()[19:]\n",
    "    for line in elephant_records:\n",
    "        record_elements = line.split(\",\")\n",
    "        species = record_elements[5]\n",
    "        age = record_elements[14] - record_elements[15]\n",
    "        elephant_dict[species] = age\n",
    "    return elephant_dict"
   ]
  },
  {
   "cell_type": "code",
   "execution_count": null,
   "metadata": {
    "collapsed": false
   },
   "outputs": [],
   "source": []
  }
 ],
 "metadata": {
  "anaconda-cloud": {},
  "kernelspec": {
   "display_name": "Python [conda root]",
   "language": "python",
   "name": "conda-root-py"
  },
  "language_info": {
   "codemirror_mode": {
    "name": "ipython",
    "version": 3
   },
   "file_extension": ".py",
   "mimetype": "text/x-python",
   "name": "python",
   "nbconvert_exporter": "python",
   "pygments_lexer": "ipython3",
   "version": "3.5.2"
  }
 },
 "nbformat": 4,
 "nbformat_minor": 2
}
