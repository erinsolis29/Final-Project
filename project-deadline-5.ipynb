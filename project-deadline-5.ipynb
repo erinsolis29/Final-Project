{
 "cells": [
  {
   "cell_type": "markdown",
   "metadata": {},
   "source": [
    "# Markdown Outline of Project"
   ]
  },
  {
   "cell_type": "markdown",
   "metadata": {},
   "source": [
    "### Intro\n",
    "\n",
    "The family Heteromyidae, situated in the order Rodentia, is characterized by smaller rodents, such as kangaroo rats and pocket mice. This family has had a substantial evolutionary history, dating back to around the Oligocene epoch (Alexander & Riddle, 2005). Most of these mammals can be found in the Americas. Based on geographical studies, Martin provides evidence that suggests that smaller mammals, such as those within the Heteromyidae family, have experienced higher rates of speciation. Current data suggests that this is still the case in terms of diversification (Martin, 2016). Despite their susceptibility to higher speciation rates, the family Heteromyidae is exceptionally vulnerable to habitat loss, which could ultimately lead to an extinction of several of the species within the family (Price & Endo, 1989).\n",
    "\n",
    "Citations:\n",
    "\n",
    "Alexander, L. F., & Riddle, B. R. (2005). Phylogenetics of the new world rodent family heteromyidae. Journal of Mammalogy, 86(2), 366–379. \n",
    "\n",
    "Martin, R. A. (2017). Body size in (mostly) mammals: mass, speciation rates and the translation of gamma to alpha diversity on evolutionary timescales. Historical Biology, 29(5), 576–593. \n",
    "\n",
    "Price, M. V., & Endo, P. R. (1989). Estimating the Distribution and Abundance of a Cryptic Species, Dipodomys Stephensi (Rodentia: Heteromyidae), and Implications for Management. Conservation Biology, 3(3), 293–301.\n"
   ]
  },
  {
   "cell_type": "markdown",
   "metadata": {},
   "source": [
    "## Please see project-deadline-4.ipynb for all of my working functions and inputs/outputs. \n",
    "\n",
    "I already submitted the project-4-deadline.ipynb with all of my working functions because I thought they were due last Friday. Since that notebook is rather lengthy, I thought it best not to repaste it here. Thank you and sorry if this makes it more inconvenient!"
   ]
  },
  {
   "cell_type": "markdown",
   "metadata": {},
   "source": [
    "### pseudocode for the parts not yet written\n",
    "\n",
    "The only part that I haven't written is the code for the graphs in R Studio..."
   ]
  },
  {
   "cell_type": "code",
   "execution_count": 2,
   "metadata": {
    "collapsed": false
   },
   "outputs": [],
   "source": [
    "# not very familiar with the specifics of R Studio ggplot yet so this is a very rough pseudocode\n",
    "\n",
    "library(ggplot2)\n",
    "\n",
    "read in csv file to r studio\n",
    "\n",
    "define the names in file\n",
    "\n",
    "make graph in ggplot where ymin = maxage and ymax = minage , color = genus\n",
    "\n",
    "make it so there it is a linear range\n",
    "\n",
    "flip axes so they read horizontally\n",
    "\n",
    "adjust name/axis titles/etc. so that they are the appropriate size for the graph\n",
    "\n",
    "adjust spacing on graph to fit well"
   ]
  },
  {
   "cell_type": "markdown",
   "metadata": {},
   "source": [
    "## Figure Information"
   ]
  },
  {
   "cell_type": "markdown",
   "metadata": {},
   "source": [
    "#### This is the code/graph for the diversity data\n",
    "\n",
    "I am planning to do this graph using matplotlib in python."
   ]
  },
  {
   "cell_type": "code",
   "execution_count": 3,
   "metadata": {
    "collapsed": true
   },
   "outputs": [],
   "source": [
    "# the comments for this code can be found in the project-deadline-4.ipynb file\n",
    "def DiversityDictionary(filename):\n",
    "    diversity_dict = {} \n",
    "    diversity_data = open(filename, \"r\", encoding = \"ISO-8859-15\") \n",
    "    diversity_records = diversity_data.readlines()[21:]\n",
    "    for line in diversity_records:\n",
    "        line = line.replace('\\\"', '') \n",
    "        diversity_elements = line.split(\",\")\n",
    "        epoch = diversity_elements[1] \n",
    "        no_occurances = int(diversity_elements[8]) \n",
    "        diversity_dict[epoch] = no_occurances \n",
    "    return diversity_dict"
   ]
  },
  {
   "cell_type": "code",
   "execution_count": 4,
   "metadata": {
    "collapsed": false
   },
   "outputs": [
    {
     "data": {
      "text/plain": [
       "{'Aquitanian': 14,\n",
       " 'Burdigalian': 22,\n",
       " 'Calabrian': 13,\n",
       " 'Chattian': 6,\n",
       " 'Gelasian': 0,\n",
       " 'Holocene': 7,\n",
       " 'Langhian': 40,\n",
       " 'Late Pleistocene': 15,\n",
       " 'Messinian': 0,\n",
       " 'Middle Pleistocene': 2,\n",
       " 'Piacenzian': 1,\n",
       " 'Rupelian': 6,\n",
       " 'Serravallian': 18,\n",
       " 'Tortonian': 19,\n",
       " 'Zanclean': 0}"
      ]
     },
     "execution_count": 4,
     "metadata": {},
     "output_type": "execute_result"
    }
   ],
   "source": [
    "div_dict = DiversityDictionary(\"rat_diversity.csv\")\n",
    "div_dict"
   ]
  },
  {
   "cell_type": "code",
   "execution_count": 17,
   "metadata": {
    "collapsed": false
   },
   "outputs": [
    {
     "data": {
      "image/png": "[encoded data removed]",
      "text/plain": [
       "<matplotlib.figure.Figure at 0x7f7d390e7b00>"
      ]
     },
     "metadata": {},
     "output_type": "display_data"
    }
   ],
   "source": [
    "import matplotlib.pyplot as plt\n",
    "plt.figure(figsize=(21,8))\n",
    "plt.bar(range(len(div_dict)), div_dict.values(), align='center')\n",
    "plt.xticks(range(len(div_dict)), list(div_dict.keys()))\n",
    "plt.title('Number of Species in Each Epoch', fontsize = 30)\n",
    "plt.xlabel('Epoch', fontsize = 25)\n",
    "plt.ylabel('Number of Species', fontsize = 25)\n",
    "\n",
    "plt.show()"
   ]
  },
  {
   "cell_type": "markdown",
   "metadata": {},
   "source": [
    "#### Graph for Species Ranges\n",
    "\n",
    "For this graph, I will be using ggplot in R Studio and adding it to the file right after the dictionaries that I created for the ranges in project-deadline-4.ipynb. \n",
    "\n",
    "I will be making a graph of the species ranges. It will have the species names on the y-axis and values in terms of millions of years ago. Each species will be represented by a colored bar spanning the range from minimum to maximum age of that species. The x-axis will be labelled \"Million Years Ago\" and the y-axis will be labelled \"Species\". The title will be \"Heteromyidae Fossil Occurances\". \n",
    "\n",
    "After making the general graph, I will make the needed adjustments to the graph in order to clean it up and clearly represent the data. "
   ]
  },
  {
   "cell_type": "code",
   "execution_count": null,
   "metadata": {
    "collapsed": true
   },
   "outputs": [],
   "source": []
  }
 ],
 "metadata": {
  "kernelspec": {
   "display_name": "Python [conda root]",
   "language": "python",
   "name": "conda-root-py"
  },
  "language_info": {
   "codemirror_mode": {
    "name": "ipython",
    "version": 3
   },
   "file_extension": ".py",
   "mimetype": "text/x-python",
   "name": "python",
   "nbconvert_exporter": "python",
   "pygments_lexer": "ipython3",
   "version": "3.5.2"
  }
 },
 "nbformat": 4,
 "nbformat_minor": 2
}
